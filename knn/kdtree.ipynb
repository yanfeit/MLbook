{
 "cells": [
  {
   "cell_type": "code",
   "execution_count": null,
   "metadata": {},
   "outputs": [],
   "source": [
    "# kd-tree\n",
    "class KdNode(object):\n",
    "    def __init__(self, dom_elt, split, left, right):\n",
    "        self.dom_elt = dom_elt\n",
    "        self.split   = split\n",
    "        self.left    = left\n",
    "        self.right   = right\n",
    "        \n",
    "class KdTree(object):\n",
    "    \n",
    "    def __init__(self, data):\n",
    "        k = len(data[0])\n",
    "        \n",
    "        def CreateNode(split, data_set):\n",
    "            if not data_set:\n",
    "                return None\n",
    "            \n",
    "            "
   ]
  }
 ],
 "metadata": {
  "kernelspec": {
   "display_name": "Python 3",
   "language": "python",
   "name": "python3"
  },
  "language_info": {
   "codemirror_mode": {
    "name": "ipython",
    "version": 3
   },
   "file_extension": ".py",
   "mimetype": "text/x-python",
   "name": "python",
   "nbconvert_exporter": "python",
   "pygments_lexer": "ipython3",
   "version": "3.7.2"
  }
 },
 "nbformat": 4,
 "nbformat_minor": 2
}
